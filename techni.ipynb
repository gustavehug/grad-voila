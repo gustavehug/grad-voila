{
 "cells": [
  {
   "cell_type": "code",
   "execution_count": null,
   "metadata": {
    "ExecuteTime": {
     "start_time": "2021-04-06T07:57:26.183Z"
    },
    "slideshow": {
     "slide_type": "skip"
    }
   },
   "outputs": [],
   "source": [
    "%load_ext autoreload\n",
    "%autoreload 2\n",
    "\n",
    "%matplotlib widget\n",
    "import matplotlib.pyplot as plt\n",
    "\n",
    "# plt.style.use(\"ggplot\")\n",
    "\n",
    "from sinus_app import explo as explo_sin, fig_grad\n",
    "from nn_app import explo as explo_nn, n_neurons, n_layers, init_params"
   ]
  },
  {
   "cell_type": "markdown",
   "metadata": {
    "slideshow": {
     "slide_type": "slide"
    }
   },
   "source": [
    "# Machine learning with gradient descent"
   ]
  },
  {
   "cell_type": "markdown",
   "metadata": {},
   "source": [
    "How does gradient descent work ? \n",
    "\n",
    "We are going to study two univariate problems. \n",
    "\n",
    "First, we fit a parameterized sine function $y = \\sin (a x + b)$, on a (noisy) wave dataset. We thus have two parameters: weight w and bias b.\n",
    "\n",
    "You can __click__ on the left plot to change the initial parameters of the descent."
   ]
  },
  {
   "cell_type": "code",
   "execution_count": null,
   "metadata": {
    "ExecuteTime": {
     "start_time": "2021-04-06T07:57:26.187Z"
    }
   },
   "outputs": [],
   "source": [
    "import math\n",
    "import jax\n",
    "\n",
    "n_params = sum([math.prod(a.shape) for a in jax.tree_flatten(init_params)[0]])"
   ]
  },
  {
   "cell_type": "code",
   "execution_count": null,
   "metadata": {
    "ExecuteTime": {
     "start_time": "2021-04-06T07:57:26.190Z"
    }
   },
   "outputs": [],
   "source": [
    "from IPython.display import Markdown\n",
    "\n",
    "Markdown(f\"\"\"\n",
    "For the second one, we consider a (noisy) non-linear relationship dataset, \n",
    "and we fit a neural network with {n_layers} layers, {n_neurons} neurons each.\n",
    "This gives us {n_params} parameters.\n",
    "\"\"\")"
   ]
  },
  {
   "cell_type": "code",
   "execution_count": null,
   "metadata": {
    "ExecuteTime": {
     "start_time": "2021-04-06T07:57:26.193Z"
    }
   },
   "outputs": [],
   "source": [
    "import ipywidgets as widgets\n",
    "t = widgets.Tab([explo_sin, explo_nn], layout=widgets.Layout(width='auto', height='auto'))\n",
    "t.set_title(0, \"Sine regression\")\n",
    "t.set_title(1, \"Neural network\")\n",
    "t"
   ]
  }
 ],
 "metadata": {
  "celltoolbar": "Slideshow",
  "kernelspec": {
   "display_name": "bis_rnd_exploration_3.8.6",
   "language": "python",
   "name": "bis_rnd_exploration_3.8.6"
  },
  "language_info": {
   "codemirror_mode": {
    "name": "ipython",
    "version": 3
   },
   "file_extension": ".py",
   "mimetype": "text/x-python",
   "name": "python",
   "nbconvert_exporter": "python",
   "pygments_lexer": "ipython3",
   "version": "3.8.6"
  },
  "toc": {
   "base_numbering": 1,
   "nav_menu": {},
   "number_sections": true,
   "sideBar": true,
   "skip_h1_title": false,
   "title_cell": "Table of Contents",
   "title_sidebar": "Contents",
   "toc_cell": false,
   "toc_position": {},
   "toc_section_display": true,
   "toc_window_display": false
  }
 },
 "nbformat": 4,
 "nbformat_minor": 5
}